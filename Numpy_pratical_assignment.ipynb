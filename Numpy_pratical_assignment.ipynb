{
 "cells": [
  {
   "cell_type": "markdown",
   "metadata": {},
   "source": [
    "# Pratical Questions\n",
    "#### Date: 5th October 2024"
   ]
  },
  {
   "cell_type": "markdown",
   "metadata": {},
   "source": [
    "### 1. Create a 3x3 NumPy array with random integers between 1 and 100. Then, interchange its rows and columns.\n",
    "\n"
   ]
  },
  {
   "cell_type": "code",
   "execution_count": 3,
   "metadata": {},
   "outputs": [
    {
     "data": {
      "text/plain": [
       "array([[23, 86, 48],\n",
       "       [69, 31, 19],\n",
       "       [65, 63,  0]], dtype=int32)"
      ]
     },
     "execution_count": 3,
     "metadata": {},
     "output_type": "execute_result"
    }
   ],
   "source": [
    "import numpy as np\n",
    "\n",
    "np.random.randint(0,100, (3,3))"
   ]
  },
  {
   "cell_type": "markdown",
   "metadata": {},
   "source": [
    "### 2. Generate a 1D NumPy array with 10 elements. Reshape it into a 2x5 array, then into a 5x2 array."
   ]
  },
  {
   "cell_type": "code",
   "execution_count": 18,
   "metadata": {},
   "outputs": [
    {
     "name": "stdout",
     "output_type": "stream",
     "text": [
      "here is the 2x5 array :\n",
      "[[ 1  2  3  4  5]\n",
      " [ 6  7  8  9 10]]\n",
      "here is the 5x2array :\n",
      "[[ 1  2]\n",
      " [ 3  4]\n",
      " [ 5  6]\n",
      " [ 7  8]\n",
      " [ 9 10]]\n"
     ]
    }
   ],
   "source": [
    "new_shape = np.array([1,2,3,4,5,6,7,8,9,10]).reshape(2,5)\n",
    "\n",
    "print('here is the 2x5 array :')\n",
    "\n",
    "print(new_shape)\n",
    "\n",
    "print('here is the 5x2array :')\n",
    "\n",
    "print(new_shape.reshape(5,2))"
   ]
  },
  {
   "cell_type": "markdown",
   "metadata": {},
   "source": [
    "### 3. Create a 4x4 NumPy array with random float values. Add a border of zeros around it, resulting in a 6x6 array."
   ]
  },
  {
   "cell_type": "code",
   "execution_count": 189,
   "metadata": {},
   "outputs": [
    {
     "data": {
      "text/plain": [
       "array([[0.        , 0.        , 0.        , 0.        , 0.        ,\n",
       "        0.        ],\n",
       "       [0.        , 0.88811021, 0.00583069, 0.12422696, 0.87220825,\n",
       "        0.        ],\n",
       "       [0.        , 0.00955088, 0.66585598, 0.33793321, 0.58795765,\n",
       "        0.        ],\n",
       "       [0.        , 0.40686247, 0.29063872, 0.14511431, 0.77127629,\n",
       "        0.        ],\n",
       "       [0.        , 0.2981468 , 0.34705594, 0.33119682, 0.12586093,\n",
       "        0.        ],\n",
       "       [0.        , 0.        , 0.        , 0.        , 0.        ,\n",
       "        0.        ]])"
      ]
     },
     "execution_count": 189,
     "metadata": {},
     "output_type": "execute_result"
    }
   ],
   "source": [
    "random_float_value = np.random.rand(4,4)\n",
    "border_zeros = np.zeros((6,6))\n",
    "\n",
    "border_zeros[1][1:5] = random_float_value[0]\n",
    "border_zeros[2][1:5] = random_float_value[1]\n",
    "border_zeros[3][1:5] = random_float_value[2]\n",
    "border_zeros[4][1:5] = random_float_value[3]\n",
    "\n",
    "border_zeros"
   ]
  },
  {
   "cell_type": "markdown",
   "metadata": {},
   "source": [
    "### 4. Using NumPy, create an array of integers from 10 to 60 with a step of 5."
   ]
  },
  {
   "cell_type": "code",
   "execution_count": 41,
   "metadata": {},
   "outputs": [
    {
     "data": {
      "text/plain": [
       "array([10, 15, 20, 25, 30, 35, 40, 45, 50, 55])"
      ]
     },
     "execution_count": 41,
     "metadata": {},
     "output_type": "execute_result"
    }
   ],
   "source": [
    "np.arange(10,60,5)"
   ]
  },
  {
   "cell_type": "markdown",
   "metadata": {},
   "source": [
    "### 5. Create a NumPy array of strings ['python', 'numpy', 'pandas']. Apply different case transformations (uppercase, lowercase, title case, etc.) to each element."
   ]
  },
  {
   "cell_type": "code",
   "execution_count": 50,
   "metadata": {},
   "outputs": [
    {
     "name": "stdout",
     "output_type": "stream",
     "text": [
      "['PYTHON' 'NUMPY' 'PANDAS'] in uper transformations...\n",
      "['python' 'numpy' 'pandas'] in lower transformations..\n",
      "['Python' 'Numpy' 'Pandas'] in title transformations..\n"
     ]
    }
   ],
   "source": [
    "string_value = np.array(['python', 'numpy', 'pandas'])\n",
    "\n",
    "print(np.char.upper(string_value), 'in uper transformations...')\n",
    "print(np.char.lower(string_value), 'in lower transformations..')\n",
    "print(np.char.title(string_value), 'in title transformations..')"
   ]
  },
  {
   "cell_type": "markdown",
   "metadata": {},
   "source": [
    "### 6. Generate a NumPy array of words. Insert a space between each character of every word in the array."
   ]
  },
  {
   "cell_type": "code",
   "execution_count": 91,
   "metadata": {},
   "outputs": [
    {
     "data": {
      "text/plain": [
       "array(['p  ,  y  ,  t  ,  h  ,  o  ,  n', 'n  ,  u  ,  m  ,  p  ,  y',\n",
       "       'p  ,  a  ,  n  ,  d  ,  a  ,  s'], dtype='<U31')"
      ]
     },
     "execution_count": 91,
     "metadata": {},
     "output_type": "execute_result"
    }
   ],
   "source": [
    "string_value = np.array(['python', 'numpy', 'pandas'])\n",
    "np.char.join('  ,  ',string_value)"
   ]
  },
  {
   "cell_type": "markdown",
   "metadata": {},
   "source": [
    "### 7. Create two 2D NumPy arrays and perform element-wise addition, subtraction, multiplication, and division.\n",
    "\n"
   ]
  },
  {
   "cell_type": "code",
   "execution_count": 93,
   "metadata": {},
   "outputs": [
    {
     "name": "stdout",
     "output_type": "stream",
     "text": [
      "[[9 4 7 3]\n",
      " [6 2 7 1]\n",
      " [8 5 4 7]\n",
      " [1 6 8 2]]\n",
      "[[2 4 2 9]\n",
      " [6 6 4 9]\n",
      " [2 1 3 9]\n",
      " [8 9 4 6]]\n",
      "[[11  8  9 12]\n",
      " [12  8 11 10]\n",
      " [10  6  7 16]\n",
      " [ 9 15 12  8]] this is addition\n",
      "[[ 7  0  5 -6]\n",
      " [ 0 -4  3 -8]\n",
      " [ 6  4  1 -2]\n",
      " [-7 -3  4 -4]] this is substraction\n",
      "[[18 16 14 27]\n",
      " [36 12 28  9]\n",
      " [16  5 12 63]\n",
      " [ 8 54 32 12]] this is multiplicaton\n",
      "[[4.5        1.         3.5        0.33333333]\n",
      " [1.         0.33333333 1.75       0.11111111]\n",
      " [4.         5.         1.33333333 0.77777778]\n",
      " [0.125      0.66666667 2.         0.33333333]] this is division\n",
      "[[ 80  94  67 198]\n",
      " [ 46  52  45 141]\n",
      " [110 129  76 195]\n",
      " [ 70  66  58 147]] this is matrix multiplication\n"
     ]
    }
   ],
   "source": [
    "arr1 = np.random.randint(1,10,(4,4))\n",
    "arr2 = np.random.randint(1,10,(4,4))\n",
    "\n",
    "print(arr1)\n",
    "print(arr2)\n",
    "\n",
    "print(arr1 + arr2, 'this is addition')\n",
    "print(arr1 - arr2, 'this is substraction')\n",
    "print(arr1 * arr2, 'this is multiplicaton')\n",
    "print(arr1 / arr2, 'this is division')\n",
    "print(arr1 @ arr2, 'this is matrix multiplication')"
   ]
  },
  {
   "cell_type": "markdown",
   "metadata": {},
   "source": [
    "### 8. Use NumPy to create a 5x5 identity matrix, then extract its diagonal elements."
   ]
  },
  {
   "cell_type": "code",
   "execution_count": 43,
   "metadata": {},
   "outputs": [
    {
     "name": "stdout",
     "output_type": "stream",
     "text": [
      "[[1. 0. 0. 0. 0.]\n",
      " [0. 1. 0. 0. 0.]\n",
      " [0. 0. 1. 0. 0.]\n",
      " [0. 0. 0. 1. 0.]\n",
      " [0. 0. 0. 0. 1.]]\n",
      "[1. 1. 1. 1. 1.] this is the extract version of the above identity array\n"
     ]
    }
   ],
   "source": [
    "a = np.eye(5)\n",
    "\n",
    "print(a)\n",
    "\n",
    "result = np.extract(np.eye(5), a)\n",
    "\n",
    "print(result, 'this is the extract version of the above identity array')"
   ]
  },
  {
   "cell_type": "markdown",
   "metadata": {},
   "source": [
    "### 9. Generate a NumPy array of 100 random integers between 0 and 1000. Find and display all prime numbers in this array."
   ]
  },
  {
   "cell_type": "code",
   "execution_count": 146,
   "metadata": {},
   "outputs": [
    {
     "data": {
      "text/plain": [
       "array([367, 619, 359,  19, 547, 853, 439, 157, 191, 281, 647, 811,  47],\n",
       "      dtype=int32)"
      ]
     },
     "execution_count": 146,
     "metadata": {},
     "output_type": "execute_result"
    }
   ],
   "source": [
    "#len(np.random.randint(0,1000,(100)))\n",
    "\n",
    "\n",
    "def is_prime(n):\n",
    "    if n <= 1:\n",
    "        return False\n",
    "    for i in range(2, int(n ** 0.5) + 1):\n",
    "        if n % i == 0:\n",
    "            return False\n",
    "    return True\n",
    "\n",
    "convert_boolean_elementwise = np.vectorize(is_prime)\n",
    "\n",
    "random_integer_array = np.random.randint(0, 1000, 100)\n",
    "\n",
    "find_prime_from_random_integer_array = convert_boolean_elementwise(random_integer_array)\n",
    "\n",
    "result = random_integer_array[find_prime_from_random_integer_array]\n",
    "\n",
    "result"
   ]
  },
  {
   "cell_type": "markdown",
   "metadata": {},
   "source": [
    "### 10. Create a NumPy array representing daily temperatures for a month. Calculate and display the weekly averages."
   ]
  },
  {
   "cell_type": "code",
   "execution_count": 171,
   "metadata": {},
   "outputs": [
    {
     "name": "stdout",
     "output_type": "stream",
     "text": [
      "Daily temp the month [48.70663515 45.49260235 42.37830808 28.47404854 39.46080021 37.78392013\n",
      " 46.46385114 34.1921819  36.46659575 35.44981302 31.90501935 28.07336318\n",
      " 31.3018116  29.67374477 49.10099094 41.63875139 41.130672   36.37803761\n",
      " 49.39749435 41.02241592 28.66886968 41.2650847  32.17956594 46.92049116\n",
      " 45.29116396 37.60656001 49.9208251  43.39523579 28.14174768 30.10513536]\n",
      "weekly temp of the month in 5week 6day basic [[48.70663515 45.49260235 42.37830808 28.47404854 39.46080021 37.78392013]\n",
      " [46.46385114 34.1921819  36.46659575 35.44981302 31.90501935 28.07336318]\n",
      " [31.3018116  29.67374477 49.10099094 41.63875139 41.130672   36.37803761]\n",
      " [49.39749435 41.02241592 28.66886968 41.2650847  32.17956594 46.92049116]\n",
      " [45.29116396 37.60656001 49.9208251  43.39523579 28.14174768 30.10513536]]\n",
      "here is the weekly avg temp for this month 38.59952455825697\n"
     ]
    }
   ],
   "source": [
    "daily_temperatures = np.random.uniform(28, 50, size=30)\n",
    "\n",
    "print('Daily temp the month',daily_temperatures)\n",
    "\n",
    "# weekly_temperatures = daily_temperatures.reshape(4, 7)\n",
    "weekly_temperatures = daily_temperatures.reshape(5, 6)\n",
    "\n",
    "print('weekly temp of the month in 5week 6day basic',weekly_temperatures)\n",
    "\n",
    "mean_temp = weekly_temperatures.mean()\n",
    "\n",
    "print('here is the weekly avg temp for this month', mean_temp)"
   ]
  },
  {
   "cell_type": "code",
   "execution_count": null,
   "metadata": {},
   "outputs": [],
   "source": []
  }
 ],
 "metadata": {
  "kernelspec": {
   "display_name": "Python 3",
   "language": "python",
   "name": "python3"
  },
  "language_info": {
   "codemirror_mode": {
    "name": "ipython",
    "version": 3
   },
   "file_extension": ".py",
   "mimetype": "text/x-python",
   "name": "python",
   "nbconvert_exporter": "python",
   "pygments_lexer": "ipython3",
   "version": "3.12.5"
  }
 },
 "nbformat": 4,
 "nbformat_minor": 2
}
